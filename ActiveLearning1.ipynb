{
  "cells": [
    {
      "cell_type": "markdown",
      "metadata": {
        "id": "view-in-github",
        "colab_type": "text"
      },
      "source": [
        "<a href=\"https://colab.research.google.com/github/ayu1729/active_learning_trial/blob/main/ActiveLearning1.ipynb\" target=\"_parent\"><img src=\"https://colab.research.google.com/assets/colab-badge.svg\" alt=\"Open In Colab\"/></a>"
      ]
    },
    {
      "cell_type": "code",
      "execution_count": null,
      "metadata": {
        "id": "cwUn9Dc7QsB8"
      },
      "outputs": [],
      "source": [
        ""
      ]
    },
    {
      "cell_type": "code",
      "execution_count": null,
      "metadata": {
        "id": "UyUE-gNIQ5BV"
      },
      "outputs": [],
      "source": [
        "classifier = KerasClassifier(create_keras_model)"
      ]
    },
    {
      "cell_type": "code",
      "execution_count": null,
      "metadata": {
        "colab": {
          "base_uri": "https://localhost:8080/"
        },
        "id": "RUao3InWQ6Cw",
        "outputId": "caff3308-d08d-4d94-8e90-379945b3cb0a"
      },
      "outputs": [
        {
          "name": "stdout",
          "output_type": "stream",
          "text": [
            "(1000, 28, 28, 1)\n"
          ]
        }
      ],
      "source": [
        ""
      ]
    },
    {
      "cell_type": "code",
      "execution_count": null,
      "metadata": {
        "colab": {
          "base_uri": "https://localhost:8080/"
        },
        "id": "AoGhs1wYkEJk",
        "outputId": "67425b0f-eab1-461e-bd4f-f81428945caa"
      },
      "outputs": [
        {
          "name": "stdout",
          "output_type": "stream",
          "text": [
            "(1000, 10)\n"
          ]
        }
      ],
      "source": [
        "print(y_initial.shape)"
      ]
    },
    {
      "cell_type": "code",
      "execution_count": null,
      "metadata": {
        "colab": {
          "base_uri": "https://localhost:8080/"
        },
        "id": "T_VOWVMEQ-0F",
        "outputId": "037a6651-4159-4261-909f-027df85f2011"
      },
      "outputs": [
        {
          "name": "stdout",
          "output_type": "stream",
          "text": [
            "32/32 [==============================] - 3s 78ms/step - loss: 2.3158 - accuracy: 0.0982\n"
          ]
        }
      ],
      "source": [
        ""
      ]
    },
    {
      "cell_type": "code",
      "execution_count": null,
      "metadata": {
        "colab": {
          "base_uri": "https://localhost:8080/"
        },
        "id": "hNc6tBBZSfb3",
        "outputId": "89341291-0e09-4cbc-d86a-c6c3896c7a23"
      },
      "outputs": [
        {
          "name": "stdout",
          "output_type": "stream",
          "text": [
            "32/32 [==============================] - 3s 79ms/step - loss: 2.3167 - accuracy: 0.1244\n"
          ]
        },
        {
          "name": "stderr",
          "output_type": "stream",
          "text": [
            "/usr/local/lib/python3.7/dist-packages/sklearn/base.py:197: FutureWarning: From version 0.24, get_params will raise an AttributeError if a parameter cannot be retrieved as an instance attribute. Previously it would return None.\n",
            "  FutureWarning)\n"
          ]
        },
        {
          "data": {
            "text/plain": [
              "ActiveLearner(X_training=array([[[[0.],\n",
              "         [0.],\n",
              "         [0.],\n",
              "         ...,\n",
              "         [0.],\n",
              "         [0.],\n",
              "         [0.]],\n",
              "\n",
              "        [[0.],\n",
              "         [0.],\n",
              "         [0.],\n",
              "         ...,\n",
              "         [0.],\n",
              "         [0.],\n",
              "         [0.]],\n",
              "\n",
              "        [[0.],\n",
              "         [0.],\n",
              "         [0.],\n",
              "         ...,\n",
              "         [0.],\n",
              "         [0.],\n",
              "         [0.]],\n",
              "\n",
              "        ...,\n",
              "\n",
              "        [[0.],\n",
              "         [0.],\n",
              "         [0.],\n",
              "         ...,\n",
              "         [0.],\n",
              "         [0.],\n",
              "         [0.]],\n",
              "\n",
              "        [[0.],\n",
              "         [0.],\n",
              "         [0.],\n",
              "         ...,\n",
              "         [0.],\n",
              "         [0.],\n",
              "         [0.]],\n",
              "\n",
              "        [[0.],\n",
              "         [0.],\n",
              "         [0.],\n",
              "         ...,\n",
              "         [0.],\n",
              "         [0.],\n",
              "         [0.]]],\n",
              "\n",
              "\n",
              "       [[[0.],\n",
              "         [0.],\n",
              "         [0.],\n",
              "         ...,\n",
              "         [0.],\n",
              "         [0.],\n",
              "         [0.]],\n",
              "\n",
              "        [[0.],\n",
              "         [0.],\n",
              "         [0.],\n",
              "         ...,\n",
              "         [0.],\n",
              "         [0.],\n",
              "         [0.]],\n",
              "\n",
              "        [[0.],\n",
              "         [0.],\n",
              "         [0.],\n",
              "         ...,\n",
              "         [0....\n",
              "              bootstrap_init=None,\n",
              "              estimator=<keras.wrappers.scikit_learn.KerasClassifier object at 0x7fbde218e690>,\n",
              "              on_transformed=False,\n",
              "              query_strategy=<function uncertainty_sampling at 0x7fbde66aed40>,\n",
              "              y_training=array([[0., 0., 0., ..., 0., 0., 0.],\n",
              "       [1., 0., 0., ..., 0., 0., 0.],\n",
              "       [0., 0., 1., ..., 0., 0., 0.],\n",
              "       ...,\n",
              "       [0., 0., 0., ..., 0., 1., 0.],\n",
              "       [0., 0., 0., ..., 0., 0., 1.],\n",
              "       [0., 0., 0., ..., 0., 0., 0.]], dtype=float32))"
            ]
          },
          "execution_count": 25,
          "metadata": {
            "tags": []
          },
          "output_type": "execute_result"
        }
      ],
      "source": [
        "learner.fit(X_initial,y_initial)"
      ]
    },
    {
      "cell_type": "code",
      "execution_count": null,
      "metadata": {
        "id": "ITlLnbeUj_eD"
      },
      "outputs": [],
      "source": [
        ""
      ]
    },
    {
      "cell_type": "code",
      "execution_count": null,
      "metadata": {
        "colab": {
          "base_uri": "https://localhost:8080/"
        },
        "id": "SN7WwyFQRrsf",
        "outputId": "e35e1a2a-fb8f-41d6-fafb-79436d7dee8f"
      },
      "outputs": [
        {
          "name": "stdout",
          "output_type": "stream",
          "text": [
            "Requirement already satisfied: modAL in /usr/local/lib/python3.7/dist-packages (0.4.1)\n",
            "Requirement already satisfied: scikit-learn>=0.18 in /usr/local/lib/python3.7/dist-packages (from modAL) (0.22.2.post1)\n",
            "Requirement already satisfied: scipy>=0.18 in /usr/local/lib/python3.7/dist-packages (from modAL) (1.4.1)\n",
            "Requirement already satisfied: pandas>=1.1.0 in /usr/local/lib/python3.7/dist-packages (from modAL) (1.1.5)\n",
            "Requirement already satisfied: numpy>=1.13 in /usr/local/lib/python3.7/dist-packages (from modAL) (1.19.5)\n",
            "Requirement already satisfied: pytz>=2017.2 in /usr/local/lib/python3.7/dist-packages (from pandas>=1.1.0->modAL) (2018.9)\n",
            "Requirement already satisfied: python-dateutil>=2.7.3 in /usr/local/lib/python3.7/dist-packages (from pandas>=1.1.0->modAL) (2.8.1)\n",
            "Requirement already satisfied: six>=1.5 in /usr/local/lib/python3.7/dist-packages (from python-dateutil>=2.7.3->pandas>=1.1.0->modAL) (1.15.0)\n",
            "Requirement already satisfied: joblib>=0.11 in /usr/local/lib/python3.7/dist-packages (from scikit-learn>=0.18->modAL) (1.0.1)\n"
          ]
        }
      ],
      "source": [
        "pip install modAL"
      ]
    },
    {
      "cell_type": "code",
      "execution_count": null,
      "metadata": {
        "id": "b-tmAd6tRBu2"
      },
      "outputs": [],
      "source": [
        ""
      ]
    },
    {
      "cell_type": "code",
      "execution_count": null,
      "metadata": {
        "colab": {
          "background_save": true,
          "base_uri": "https://localhost:8080/"
        },
        "id": "CcEp6uHpZair",
        "outputId": "a8913450-30a1-4ece-947b-d67f92f83c1b"
      },
      "outputs": [
        {
          "name": "stdout",
          "output_type": "stream",
          "text": [
            "32/32 [==============================] - 4s 80ms/step - loss: 2.3029 - accuracy: 0.1121\n",
            "[46205 37827 47456 51356 33878 12994 37079  3614 29337  8699 48152 33697\n",
            " 32201 17315 17319 54174 19308 53994 18679 14574  7223 36763  4710 49100\n",
            " 57833 13661 51756 42147 26643 53302 42851 46425 53166 33937 45171 27763\n",
            " 12353 27521  2975  4127 25234 49718  4393 34854 38035 30263  8263 15040\n",
            " 39676 18960  8387 30186 47243 29599 52357 22793 39095 24905 46214 21350\n",
            " 22738 58506 11146   154 10615 13835 42609 15438 40186 58912 12316 52882\n",
            " 53833 34903 35280 49011 15855 22482 23928 15596 31966  8181 40673 15747\n",
            " 49360 54378  8572 36955 52903  9136 34578 49303 19786 56899 11122 32773\n",
            " 30774  7149 28773 35154]\n",
            "4/4 [==============================] - 1s 60ms/step - loss: 2.2946 - accuracy: 0.0737\n",
            "[40446 31610  7145 51213 31027 31050 53312 17159  9983 46221 50798 13455\n",
            " 21350 16608  8608 30050 41463 30666 30674 29135 52206 14765  7176 28547\n",
            " 49493  7178 23719  3404 40590 45096 33312  7986 56052  1129  1505 57662\n",
            " 48291 37356  7604  6605 37857  7044 45135 32693 31516 37354 18691 12981\n",
            " 30797 56105 49773 29380 45210 29460 53903 40965  6432 39064 43172 40938\n",
            "  5026 42273  4327 40914 20135 53964 45236 21699 17250 10905   407 33348\n",
            "  5571 45240  1779 23294 36387 39503  6130 12900 15142  6761 53096  8031\n",
            " 16398 53874 16800  7054 14022 45218  7226 17320 21032 45226  8304 50791\n",
            "  1105 45149 40972    11]\n",
            "4/4 [==============================] - 1s 64ms/step - loss: 2.3184 - accuracy: 0.1023\n",
            "[55922 28036 18724 28708   592 39642 32835 35098 55889 45803 55648 37475\n",
            " 36314  7136 24446 18165 52788 50667 24097 25566 30973 19565 34002 43832\n",
            " 14432 15077 12088 57407 16944 44225 46535  5635 39364 44133 26019 52541\n",
            " 52877 44231 24047 32025  6303 14612 43665 30317 35196 54991 30340  4986\n",
            " 52325  5420 15098 44245 39517 40649 15426 27777 57321 52047 50759 47892\n",
            "  4486 11155 13252 23282 25974 21283 11400 46061 41988  8724 52519 17482\n",
            " 30071 46255 29771   881 25975 56402 25433 29557 32867 56075  6353 57630\n",
            " 35217  5320 21704 55351 41670  2044 11355 44253 12232 16499 52557 14134\n",
            " 57398 21615 16858  7578]\n",
            "4/4 [==============================] - 1s 61ms/step - loss: 2.3184 - accuracy: 0.0523\n",
            "[ 7663 47942  2771 39202 34391 14120 36111 14444  1225 26062  8028 55700\n",
            " 25316 17937 28667 10769 48186 14054 39043  1941 55285 35910 20828 41350\n",
            " 39661 19381  9527 11674 29654 32413 17237 38848 31484 27503 55210 20990\n",
            " 27496 40807 50156 30545 41829 56892 44048 47973 36713 29740 24643 41693\n",
            " 54276 17419 30069  9441 33972 23818 54165 23785 14182 37151 41558 30943\n",
            "  9562 31232 46575 50112 34683 30942 38070 17032 29597 35234 12070 41663\n",
            "  1161 36671 36074 31045  8373 40857 50048 22865 35118 33123  2702 36704\n",
            " 30930 37458 47886 14438 18227 46566   400 24880 45282 39277  5475 38380\n",
            "  2091 16261 40017 54356]\n",
            "4/4 [==============================] - 1s 61ms/step - loss: 2.2813 - accuracy: 0.1145\n",
            "[44449 22265 30144 32316 49920 35381 28214 27622 10848 54905 33637 15626\n",
            " 12343 48723 43180 30708  6219 29374  6678  3962 55057 29865 44591 36282\n",
            " 19248  5682  9387  7711 51392 32357 38124 38742 54477 40890 22678 56698\n",
            " 56613 48413 44801 36614 32366 37524  5436 41113 20586 10794 17926  9341\n",
            " 21105 20786 27655  9323 23879 53926 15838 17379 41771   440 51032 17326\n",
            " 24210 38807 50386 27085 42733  1205  3041 29656 40533 20856 22366 55965\n",
            "  9246 12784 33504 32487  7477 26463 17219 34988 31655 56108 28585 14127\n",
            " 17231  3896 38855 51138 34685 47907 11280 53141 34691 15814 33443 15013\n",
            " 32886 23550 19016 39195]\n",
            "4/4 [==============================] - 1s 61ms/step - loss: 2.3429 - accuracy: 0.0061\n",
            "[53691  1551 57225 36926 44662 44309 33911 12999 42218  1530 42705 25291\n",
            " 11912 45207 17836 18492 56024 33248 41222 20692 18334 44071 17353 35282\n",
            " 37620  4657 29849 40630 49853 34400 39409 26850 37562 55388 50440 41189\n",
            " 15034 19799  8133 50265 36317 35690 37992 43954  5993 58442 37030  3692\n",
            " 25809 16192 53350 53714 25828   801 29805  4699   174 26995 41312 42492\n",
            " 41880 55578  2082 47809  7627 31452 33217 19246 21910 28324 19613 19940\n",
            " 38876 37657 36634 53493  2348 42962  9743 40022 30331 28959 55675 41747\n",
            " 44186 47510 39413 25398 41140  2538 16902 14888 42905 16795 57344 33143\n",
            " 33086 57184 54566 54320]\n",
            "4/4 [==============================] - 1s 61ms/step - loss: 2.3016 - accuracy: 0.1364\n",
            "[14797 50279 13460 39465 48060  9974  1048 48092 13627 33167 39044  8853\n",
            " 53942 40108 56632 51798 32820  7714  1114 38713 22627 38692 44701 44938\n",
            " 31846  1002 35797 55959 56674 32728 29809   803 27825 11191  7890 48476\n",
            " 11195 13228 21811 20263  7045 20210 17178 25467  5717 19856 52360 34244\n",
            " 28054  5806 19674 23476  3887 39627 19503  7872 26964 17540 19456 19272\n",
            " 21633 53009 48194 30813 35171 19165 55089 39534 14528  4815 34155 30305\n",
            " 17804 37513 42060 52882 30341 47224 33777  7399 14901 42381 17831 52758\n",
            " 43040 37140 28208 33863 24582 30704  6372 18380 24764 25107 28252   135\n",
            " 27115 40511  4918 45950]\n",
            "4/4 [==============================] - 1s 61ms/step - loss: 2.3601 - accuracy: 0.0370\n",
            "[24477 31817 38089 29047 15479   270  4666 27298 33962 36254 15444 49501\n",
            " 40657 26784 11382  1099 13377 19236  6944 21880 30373 13650 13687 48487\n",
            " 13747 54517 54491 24184  9575 35517 25600 21670 37275 52879 24271 14363\n",
            "  5550 15038 20952 45277 12490 52174 52093 42349 44279 16885 23438 36898\n",
            " 41192 47027 36136 19141 52202 26474 36188 52218 28258 28238 26410 18732\n",
            " 55069   420 48597 19277 49505 55887 18095 19369 51386 50103 48499 33272\n",
            " 44879 38752 30577 13198 11049 17381 37857  6432 35416 15513 10384 32700\n",
            "  3891 46281 12061 29871 13367 44833 33432 18223  2198 25518 28039 14235\n",
            " 29435  9406   773 31304]\n",
            "4/4 [==============================] - 1s 60ms/step - loss: 2.3001 - accuracy: 0.1044\n",
            "[25063 36699 21055 17752 53015 17148 10381 32458 22674 17828 50322 50353\n",
            " 13501 36886 56091  7474 20093 25500  3484 15663 15671  5767 42148 56818\n",
            " 23563 40496 22451 34407 34408 40459 30350 16755 17081 46328 12016 12311\n",
            "  5375 22015 18194 30939 43141 30470 56349 31958  7846 23177 27859 36413\n",
            " 25802  8277 41091 41657 19663 20071 56218  9076 28973 40139 25843 48648\n",
            " 10030 35660 54381 50266 40460 17314 40880 38838 55112 26484 37809 25078\n",
            " 54594 36325 29666 37358 41131 56792 19826 10198  6838 50782 39031 12910\n",
            " 16573  6567 22392 26270 29437 45797 10718  8457 39379 30455 34317 50702\n",
            " 39207 26730 55328 28516]\n",
            "4/4 [==============================] - 1s 64ms/step - loss: 2.3153 - accuracy: 0.1107\n",
            "[51593 50135 29290  5745 41697 55145  7859 41196 45771  2316 41854 56087\n",
            "  9121 45762  2304 18264  6373 46040  3820 54691 30812 37845 14290 42220\n",
            " 18395 42295 31504  3861 56159 15457 11644 10116 48809 25745 31979 37346\n",
            "  2450 46360 53479 30497 15064 25932 50672 13912 12795 48905 52224 13367\n",
            " 48921  3513  1233 11738  7897 27704  8583 56838 33065 37431 38230 14936\n",
            " 20002 19236 30238  1106 26956 27478 53791 31137 56742  4506 43926 40387\n",
            " 37589 17239  6610 30061 30708 44028 17123  6614 30795 40048  2513 38384\n",
            " 45718 13436 40285 22718 51625 46493 47225 32144 20899 43386 29552 24108\n",
            " 25437 20019 32787 52318]\n",
            "4/4 [==============================] - 2s 60ms/step - loss: 2.3012 - accuracy: 0.0983\n",
            "313/313 [==============================] - 6s 19ms/step - loss: 2.2981 - accuracy: 0.0921\n",
            "0.09210000187158585\n"
          ]
        }
      ],
      "source": [
        "#keras.utils.np_utils.to_categorical\n",
        "import keras\n",
        "import numpy as np\n",
        "from keras.datasets import mnist\n",
        "from keras.models import Sequential\n",
        "from keras.layers import Dense, Dropout, Flatten, Conv2D, MaxPooling2D\n",
        "from keras.wrappers.scikit_learn import KerasClassifier\n",
        "from modAL.models import ActiveLearner\n",
        "\n",
        "\n",
        "# build function for the Keras' scikit-learn API\n",
        "def create_keras_model():\n",
        "    \"\"\"\n",
        "    This function compiles and returns a Keras model.\n",
        "    Should be passed to KerasClassifier in the Keras scikit-learn API.\n",
        "    \"\"\"\n",
        "\n",
        "    model = Sequential()\n",
        "    model.add(Conv2D(32, kernel_size=(3, 3), activation='relu', input_shape=(28, 28, 1)))\n",
        "    model.add(Conv2D(64, (3, 3), activation='relu'))\n",
        "    model.add(MaxPooling2D(pool_size=(2, 2)))\n",
        "    model.add(Dropout(0.25))\n",
        "    model.add(Flatten())\n",
        "    model.add(Dense(128, activation='relu'))\n",
        "    model.add(Dropout(0.5))\n",
        "    model.add(Dense(10, activation='softmax'))\n",
        "\n",
        "    model.compile(loss='categorical_crossentropy', optimizer='adadelta', metrics=['accuracy'])\n",
        "\n",
        "    return model\n",
        "\n",
        "\n",
        "# create the classifier\n",
        "classifier = KerasClassifier(create_keras_model)\n",
        "\n",
        "\"\"\"\n",
        "Data wrangling\n",
        "1. Reading data from Keras\n",
        "2. Assembling initial training data for ActiveLearner\n",
        "3. Generating the pool\n",
        "\"\"\"\n",
        "\n",
        "# read training data\n",
        "(X_train, y_train), (X_test, y_test) = mnist.load_data()\n",
        "X_train = X_train.reshape(60000, 28, 28, 1).astype('float32') / 255\n",
        "X_test = X_test.reshape(10000, 28, 28, 1).astype('float32') / 255\n",
        "y_train = keras.utils.np_utils.to_categorical(y_train, 10)\n",
        "y_test = keras.utils.np_utils.to_categorical(y_test, 10)\n",
        "\n",
        "# assemble initial data\n",
        "n_initial = 1000\n",
        "initial_idx = np.random.choice(range(len(X_train)), size=n_initial, replace=False)\n",
        "X_initial = X_train[initial_idx]\n",
        "y_initial = y_train[initial_idx]\n",
        "\n",
        "# generate the pool\n",
        "# remove the initial data from the training dataset\n",
        "X_pool = np.delete(X_train, initial_idx, axis=0)\n",
        "y_pool = np.delete(y_train, initial_idx, axis=0)\n",
        "\n",
        "\"\"\"\n",
        "Training the ActiveLearner\n",
        "\"\"\"\n",
        "\n",
        "# initialize ActiveLearner\n",
        "learner = ActiveLearner(\n",
        "    estimator=classifier,\n",
        "    X_training=X_initial, y_training=y_initial,\n",
        "    verbose=1\n",
        ")\n",
        "\n",
        "# the active learning loop\n",
        "n_queries = 10\n",
        "for idx in range(n_queries):\n",
        "    query_idx, query_instance = learner.query(X_pool, n_instances=100, verbose=0)\n",
        "    print(query_idx)\n",
        "    learner.teach(\n",
        "        X=X_pool[query_idx], y=y_pool[query_idx], only_new=True,\n",
        "        verbose=1\n",
        "    )\n",
        "    # remove queried instance from pool\n",
        "    X_pool = np.delete(X_pool, query_idx, axis=0)\n",
        "    y_pool = np.delete(y_pool, query_idx, axis=0)\n",
        "\n",
        "# the final accuracy score\n",
        "print(learner.score(X_test, y_test, verbose=1))"
      ]
    }
  ],
  "metadata": {
    "colab": {
      "name": "ActiveLearning1.ipynb",
      "provenance": [],
      "authorship_tag": "ABX9TyNeNsBuboy9feRVkfm76b/h",
      "include_colab_link": true
    },
    "kernelspec": {
      "display_name": "Python 3",
      "name": "python3"
    },
    "language_info": {
      "name": "python"
    }
  },
  "nbformat": 4,
  "nbformat_minor": 0
}